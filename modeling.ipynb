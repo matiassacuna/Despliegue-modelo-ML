{
 "cells": [
  {
   "cell_type": "code",
   "execution_count": 2,
   "metadata": {},
   "outputs": [],
   "source": [
    "import pandas as pd"
   ]
  },
  {
   "cell_type": "code",
   "execution_count": 3,
   "metadata": {},
   "outputs": [],
   "source": [
    "fin_data = pd.read_csv('./dataset/finantials.csv')\n",
    "movie_data = pd.read_csv('./dataset/movies.csv')\n",
    "opening_data = pd.read_csv('./dataset/opening_gross.csv')"
   ]
  },
  {
   "cell_type": "code",
   "execution_count": 5,
   "metadata": {},
   "outputs": [],
   "source": [
    "numeric_columns_mask = (movie_data.dtypes==float) | (movie_data.dtypes==int)  #indica qué columnas en el DataFrame movie_data son de tipo float o int\n",
    "numeric_columns = [column for column in numeric_columns_mask.index if numeric_columns_mask[column]]   #Se está creando una lista llamada numeric_columns que contiene los nombres de las columnas que cumplen con la condición especificada por la máscara numeric_columns_mask. En otras palabras, esta línea extrae los nombres de las columnas que son de tipo float o int según la máscara booleana.\n",
    "movie_data = movie_data[numeric_columns+['movie_title']]   #Finalmente, se está actualizando el DataFrame movie_data para incluir solo las columnas que se encuentran en la lista numeric_columns más la columna 'movie_title'. Esto es una forma de seleccionar solo las columnas numéricas y la columna 'movie_title' en el DataFrame original."
   ]
  },
  {
   "cell_type": "code",
   "execution_count": 6,
   "metadata": {},
   "outputs": [],
   "source": [
    "fin_data = fin_data[['movie_title','production_budget','worldwide_gross']]  # esta línea de código selecciona y mantiene solo las columnas relevantes en el DataFrame fin_data, dejando solo las columnas 'movie_title', 'production_budget' y 'worldwide_gross' para su posterior procesamiento o análisis. "
   ]
  },
  {
   "cell_type": "code",
   "execution_count": 7,
   "metadata": {},
   "outputs": [],
   "source": [
    "fin_movie_data = pd.merge(fin_data, movie_data, on='movie_title',how='left')  #Aquí, se está combinando el DataFrame fin_data con el DataFrame movie_data utilizando la columna 'movie_title' como clave de combinación. La opción how='left' indica que se realizará un left join, es decir, se conservarán todas las filas de fin_data y solo se agregarán las columnas de movie_data que coincidan con las 'movie_title' correspondientes. El resultado se almacena en el nuevo DataFrame llamado fin_movie_data.\n",
    "\n",
    "full_movie_data = pd.merge(opening_data, fin_movie_data, on='movie_title', how='left')"
   ]
  },
  {
   "cell_type": "code",
   "execution_count": 8,
   "metadata": {},
   "outputs": [
    {
     "data": {
      "text/plain": [
       "(2304, 11)"
      ]
     },
     "execution_count": 8,
     "metadata": {},
     "output_type": "execute_result"
    }
   ],
   "source": [
    "full_movie_data[(full_movie_data.worldwide_gross != 0) & (full_movie_data.worldwide_gross.notnull())].shape"
   ]
  },
  {
   "cell_type": "code",
   "execution_count": 9,
   "metadata": {},
   "outputs": [],
   "source": [
    "full_movie_data = full_movie_data.drop(['movie_title','gross'], axis=1)"
   ]
  },
  {
   "cell_type": "code",
   "execution_count": 10,
   "metadata": {},
   "outputs": [
    {
     "data": {
      "text/plain": [
       "Index(['opening_gross', 'screens', 'production_budget', 'worldwide_gross',\n",
       "       'title_year', 'aspect_ratio', 'duration', 'budget', 'imdb_score'],\n",
       "      dtype='object')"
      ]
     },
     "execution_count": 10,
     "metadata": {},
     "output_type": "execute_result"
    }
   ],
   "source": [
    "full_movie_data.columns"
   ]
  },
  {
   "cell_type": "markdown",
   "metadata": {},
   "source": [
    "Modeling"
   ]
  },
  {
   "cell_type": "code",
   "execution_count": 25,
   "metadata": {},
   "outputs": [],
   "source": [
    "from sklearn.ensemble import GradientBoostingRegressor\n",
    "from sklearn.model_selection import cross_validate, GridSearchCV, train_test_split\n",
    "from sklearn.impute import SimpleImputer\n",
    "from sklearn.pipeline import Pipeline\n",
    "from sklearn.preprocessing import StandardScaler\n",
    "import numpy as np"
   ]
  },
  {
   "cell_type": "code",
   "execution_count": 26,
   "metadata": {},
   "outputs": [],
   "source": [
    "X = full_movie_data.drop(['worldwide_gross'], axis=1)\n",
    "y = full_movie_data['worldwide_gross']\n",
    "\n",
    "X_train, X_test, y_train, y_test = train_test_split(X, y, test_size=0.35, random_state=42)"
   ]
  },
  {
   "cell_type": "code",
   "execution_count": 27,
   "metadata": {},
   "outputs": [],
   "source": [
    "original_params = {\n",
    "    'n_estimators': 220,\n",
    "    'alpha': 0.9,\n",
    "    'ccp_alpha': 0.0,\n",
    "    'criterion': 'friedman_mse',\n",
    "    'init': None,\n",
    "    'learning_rate': 0.1,\n",
    "    'loss': 'squared_error',\n",
    "    'max_depth': 3,\n",
    "    'max_features': None,\n",
    "    'max_leaf_nodes': None,\n",
    "    'min_impurity_decrease': 0.0,\n",
    "    'min_samples_leaf': 1,\n",
    "    'min_samples_split': 2,\n",
    "    'min_weight_fraction_leaf': 0.0,\n",
    "    'n_iter_no_change': None,\n",
    "    'random_state': None,\n",
    "    'subsample': 1.0,\n",
    "    'tol': 0.0001,\n",
    "    'validation_fraction': 0.1,\n",
    "    'verbose': 0,\n",
    "    'warm_start': False\n",
    "}\n",
    "\n",
    "estimator = Pipeline([\n",
    "    ('imputer', SimpleImputer(missing_values=np.nan, strategy='mean')),\n",
    "    ('scaler', StandardScaler()),\n",
    "    ('core_model', GradientBoostingRegressor(**original_params))\n",
    "])"
   ]
  },
  {
   "cell_type": "markdown",
   "metadata": {},
   "source": [
    "Este código define un diccionario llamado `original_params` que contiene los parámetros y sus valores asociados para configurar un modelo de regresión con Gradient Boosting utilizando la clase `GradientBoostingRegressor` de la biblioteca scikit-learn.\n",
    "\n",
    "Vamos a desglosar los parámetros y sus significados:\n",
    "\n",
    "- `n_estimators`: Número de árboles de decisión que se construirán. En este caso, se establece en 220.\n",
    "\n",
    "- `alpha`: Factor de regularización para la función de pérdida. En este caso, se establece en 0.9.\n",
    "\n",
    "- `ccp_alpha`: Parámetro de complejidad usado para la poda minimalista de costo-complejidad. En este caso, se establece en 0.0.\n",
    "\n",
    "- `criterion`: La función para medir la calidad de una división. En este caso, se utiliza 'friedman_mse', que es la desviación media cuadrática con mejoras específicas de Friedman.\n",
    "\n",
    "- `init`: Un estimador de regresión que se utiliza para inicializar el conjunto. En este caso, se establece en `None`, lo que significa que se usará un árbol débil como estimador inicial.\n",
    "\n",
    "- `learning_rate`: Tasa de aprendizaje, controla la contribución de cada árbol al conjunto. En este caso, se establece en 0.1.\n",
    "\n",
    "- `loss`: La función de pérdida a optimizar. En este caso, se utiliza 'squared_error', que corresponde a la regresión de mínimos cuadrados.\n",
    "\n",
    "- `max_depth`: Profundidad máxima de los árboles de decisión. En este caso, se establece en 3.\n",
    "\n",
    "- `max_features`: Número máximo de características consideradas para dividir un nodo. En este caso, se establece en `None`, lo que significa que se consideran todas las características.\n",
    "\n",
    "- `max_leaf_nodes`: Número máximo de nodos hoja. En este caso, se establece en `None`, lo que significa que no hay una restricción en el número de nodos hoja.\n",
    "\n",
    "- `min_impurity_decrease`: Un nodo se dividirá si esta división induce una disminución de la impureza mayor o igual a este valor. En este caso, se establece en 0.0.\n",
    "\n",
    "- `min_samples_leaf`: Número mínimo de muestras requeridas para estar en un nodo hoja. En este caso, se establece en 1.\n",
    "\n",
    "- `min_samples_split`: Número mínimo de muestras requeridas para dividir un nodo interno. En este caso, se establece en 2.\n",
    "\n",
    "- `min_weight_fraction_leaf`: La fracción mínima ponderada de la suma total de pesos de las muestras necesarias para estar en un nodo hoja. En este caso, se establece en 0.0.\n",
    "\n",
    "- `n_iter_no_change`: Número máximo de iteraciones sin mejora para detener el ajuste temprano. En este caso, se establece en `None`, lo que significa que no se utiliza el ajuste temprano.\n",
    "\n",
    "- `random_state`: Controla la aleatoriedad del estimador. En este caso, se establece en `None`, lo que significa que no se establece una semilla aleatoria específica.\n",
    "\n",
    "- `subsample`: Fracción de muestras utilizadas para ajustar cada árbol. En este caso, se establece en 1.0, lo que significa que se utiliza el conjunto de datos completo.\n",
    "\n",
    "- `tol`: Tolerancia a la mejora en la función objetivo. En este caso, se establece en 0.0001.\n",
    "\n",
    "- `validation_fraction`: Fracción de datos de entrenamiento a utilizar para la validación temprana. En este caso, se establece en 0.1.\n",
    "\n",
    "- `verbose`: Controla la cantidad de información que se imprime. En este caso, se establece en 0 para no imprimir ninguna información.\n",
    "\n",
    "- `warm_start`: Cuando se establece en `True`, reutiliza la solución de la llamada anterior para ajustar y agregar más estimadores al conjunto, de manera incremental. En este caso, se establece en `False`.\n",
    "\n",
    "En resumen, este diccionario especifica todos los hiperparámetros utilizados para configurar un modelo de regresión con Gradient Boosting. Puedes ajustar estos valores según tus necesidades y preferencias específicas."
   ]
  },
  {
   "cell_type": "markdown",
   "metadata": {},
   "source": [
    "El código que has proporcionado crea un pipeline utilizando la clase `Pipeline` de scikit-learn. Un pipeline es una secuencia de pasos de procesamiento de datos y modelado que se pueden ejecutar de manera secuencial.\n",
    "\n",
    "Aquí hay una explicación de cada paso en el pipeline:\n",
    "\n",
    "1. **Imputer (imputador):**\n",
    "   ```python\n",
    "   ('imputer', SimpleImputer(missing_values=np.nan, strategy='mean'))\n",
    "   ```\n",
    "   Este paso utiliza `SimpleImputer` para tratar los valores faltantes en los datos. En este caso, los valores faltantes (NaN) se están reemplazando por la media de la columna correspondiente.\n",
    "\n",
    "2. **Scaler (escalador):**\n",
    "   ```python\n",
    "   ('scaler', StandardScaler())\n",
    "   ```\n",
    "   Este paso utiliza `StandardScaler` para estandarizar (escalar) las características. La estandarización implica restar la media y dividir por la desviación estándar, lo que ayuda a que todas las características tengan la misma escala.\n",
    "\n",
    "3. **Core Model (modelo principal):**\n",
    "   ```python\n",
    "   ('core_model', GradientBoostingRegressor(**original_params))\n",
    "   ```\n",
    "   Este es el paso final del pipeline y representa el modelo principal. En este caso, el modelo principal es un regresor de Gradient Boosting (`GradientBoostingRegressor`). Se configura con los parámetros especificados en el diccionario `original_params` que definiste anteriormente.\n",
    "\n",
    "El pipeline completo se crea al pasar una lista de tuplas al constructor de `Pipeline`. Cada tupla contiene un nombre descriptivo para el paso y el objeto que realiza esa operación. Los pasos se ejecutan en orden, y el resultado de cada paso se pasa como entrada al siguiente.\n",
    "\n",
    "Este tipo de pipelines es especialmente útil para organizar y estructurar el código cuando estás trabajando con modelos de machine learning, ya que permite encapsular todas las operaciones necesarias en un flujo de trabajo coherente. Además, facilita la reutilización y la reproducción del flujo de trabajo en nuevos conjuntos de datos."
   ]
  },
  {
   "cell_type": "markdown",
   "metadata": {},
   "source": [
    "Cross-validation con parametros originales"
   ]
  },
  {
   "cell_type": "code",
   "execution_count": 29,
   "metadata": {},
   "outputs": [],
   "source": [
    "results_original_params = cross_validate(estimator, X, y, return_train_score=True, cv=10)  #La validación cruzada es una técnica comúnmente utilizada para evaluar el rendimiento de un modelo y verificar su capacidad para generalizar a datos no vistos. cv=10: Especifica la estrategia de validación cruzada, en este caso, se utiliza validación cruzada con 10 divisiones (10-fold cross-validation).\n",
    "\n",
    "train_score_original_params = np.mean(results_original_params['train_score'])\n",
    "\n",
    "test_score_original_params = np.mean(results_original_params['test_score'])"
   ]
  },
  {
   "cell_type": "markdown",
   "metadata": {},
   "source": [
    "Ajuste de hiperparámetros"
   ]
  },
  {
   "cell_type": "code",
   "execution_count": 34,
   "metadata": {},
   "outputs": [
    {
     "data": {
      "text/html": [
       "<style>#sk-container-id-2 {color: black;}#sk-container-id-2 pre{padding: 0;}#sk-container-id-2 div.sk-toggleable {background-color: white;}#sk-container-id-2 label.sk-toggleable__label {cursor: pointer;display: block;width: 100%;margin-bottom: 0;padding: 0.3em;box-sizing: border-box;text-align: center;}#sk-container-id-2 label.sk-toggleable__label-arrow:before {content: \"▸\";float: left;margin-right: 0.25em;color: #696969;}#sk-container-id-2 label.sk-toggleable__label-arrow:hover:before {color: black;}#sk-container-id-2 div.sk-estimator:hover label.sk-toggleable__label-arrow:before {color: black;}#sk-container-id-2 div.sk-toggleable__content {max-height: 0;max-width: 0;overflow: hidden;text-align: left;background-color: #f0f8ff;}#sk-container-id-2 div.sk-toggleable__content pre {margin: 0.2em;color: black;border-radius: 0.25em;background-color: #f0f8ff;}#sk-container-id-2 input.sk-toggleable__control:checked~div.sk-toggleable__content {max-height: 200px;max-width: 100%;overflow: auto;}#sk-container-id-2 input.sk-toggleable__control:checked~label.sk-toggleable__label-arrow:before {content: \"▾\";}#sk-container-id-2 div.sk-estimator input.sk-toggleable__control:checked~label.sk-toggleable__label {background-color: #d4ebff;}#sk-container-id-2 div.sk-label input.sk-toggleable__control:checked~label.sk-toggleable__label {background-color: #d4ebff;}#sk-container-id-2 input.sk-hidden--visually {border: 0;clip: rect(1px 1px 1px 1px);clip: rect(1px, 1px, 1px, 1px);height: 1px;margin: -1px;overflow: hidden;padding: 0;position: absolute;width: 1px;}#sk-container-id-2 div.sk-estimator {font-family: monospace;background-color: #f0f8ff;border: 1px dotted black;border-radius: 0.25em;box-sizing: border-box;margin-bottom: 0.5em;}#sk-container-id-2 div.sk-estimator:hover {background-color: #d4ebff;}#sk-container-id-2 div.sk-parallel-item::after {content: \"\";width: 100%;border-bottom: 1px solid gray;flex-grow: 1;}#sk-container-id-2 div.sk-label:hover label.sk-toggleable__label {background-color: #d4ebff;}#sk-container-id-2 div.sk-serial::before {content: \"\";position: absolute;border-left: 1px solid gray;box-sizing: border-box;top: 0;bottom: 0;left: 50%;z-index: 0;}#sk-container-id-2 div.sk-serial {display: flex;flex-direction: column;align-items: center;background-color: white;padding-right: 0.2em;padding-left: 0.2em;position: relative;}#sk-container-id-2 div.sk-item {position: relative;z-index: 1;}#sk-container-id-2 div.sk-parallel {display: flex;align-items: stretch;justify-content: center;background-color: white;position: relative;}#sk-container-id-2 div.sk-item::before, #sk-container-id-2 div.sk-parallel-item::before {content: \"\";position: absolute;border-left: 1px solid gray;box-sizing: border-box;top: 0;bottom: 0;left: 50%;z-index: -1;}#sk-container-id-2 div.sk-parallel-item {display: flex;flex-direction: column;z-index: 1;position: relative;background-color: white;}#sk-container-id-2 div.sk-parallel-item:first-child::after {align-self: flex-end;width: 50%;}#sk-container-id-2 div.sk-parallel-item:last-child::after {align-self: flex-start;width: 50%;}#sk-container-id-2 div.sk-parallel-item:only-child::after {width: 0;}#sk-container-id-2 div.sk-dashed-wrapped {border: 1px dashed gray;margin: 0 0.4em 0.5em 0.4em;box-sizing: border-box;padding-bottom: 0.4em;background-color: white;}#sk-container-id-2 div.sk-label label {font-family: monospace;font-weight: bold;display: inline-block;line-height: 1.2em;}#sk-container-id-2 div.sk-label-container {text-align: center;}#sk-container-id-2 div.sk-container {/* jupyter's `normalize.less` sets `[hidden] { display: none; }` but bootstrap.min.css set `[hidden] { display: none !important; }` so we also need the `!important` here to be able to override the default hidden behavior on the sphinx rendered scikit-learn.org. See: https://github.com/scikit-learn/scikit-learn/issues/21755 */display: inline-block !important;position: relative;}#sk-container-id-2 div.sk-text-repr-fallback {display: none;}</style><div id=\"sk-container-id-2\" class=\"sk-top-container\"><div class=\"sk-text-repr-fallback\"><pre>GridSearchCV(cv=5,\n",
       "             estimator=Pipeline(steps=[(&#x27;imputer&#x27;, SimpleImputer()),\n",
       "                                       (&#x27;scaler&#x27;, StandardScaler()),\n",
       "                                       (&#x27;core_model&#x27;,\n",
       "                                        GradientBoostingRegressor(n_estimators=220))]),\n",
       "             param_grid={&#x27;core_model__learning_rate&#x27;: [0.01, 0.1, 0.5],\n",
       "                         &#x27;core_model__n_estimators&#x27;: range(20, 101, 20)},\n",
       "             scoring=&#x27;r2&#x27;)</pre><b>In a Jupyter environment, please rerun this cell to show the HTML representation or trust the notebook. <br />On GitHub, the HTML representation is unable to render, please try loading this page with nbviewer.org.</b></div><div class=\"sk-container\" hidden><div class=\"sk-item sk-dashed-wrapped\"><div class=\"sk-label-container\"><div class=\"sk-label sk-toggleable\"><input class=\"sk-toggleable__control sk-hidden--visually\" id=\"sk-estimator-id-6\" type=\"checkbox\" ><label for=\"sk-estimator-id-6\" class=\"sk-toggleable__label sk-toggleable__label-arrow\">GridSearchCV</label><div class=\"sk-toggleable__content\"><pre>GridSearchCV(cv=5,\n",
       "             estimator=Pipeline(steps=[(&#x27;imputer&#x27;, SimpleImputer()),\n",
       "                                       (&#x27;scaler&#x27;, StandardScaler()),\n",
       "                                       (&#x27;core_model&#x27;,\n",
       "                                        GradientBoostingRegressor(n_estimators=220))]),\n",
       "             param_grid={&#x27;core_model__learning_rate&#x27;: [0.01, 0.1, 0.5],\n",
       "                         &#x27;core_model__n_estimators&#x27;: range(20, 101, 20)},\n",
       "             scoring=&#x27;r2&#x27;)</pre></div></div></div><div class=\"sk-parallel\"><div class=\"sk-parallel-item\"><div class=\"sk-item\"><div class=\"sk-label-container\"><div class=\"sk-label sk-toggleable\"><input class=\"sk-toggleable__control sk-hidden--visually\" id=\"sk-estimator-id-7\" type=\"checkbox\" ><label for=\"sk-estimator-id-7\" class=\"sk-toggleable__label sk-toggleable__label-arrow\">estimator: Pipeline</label><div class=\"sk-toggleable__content\"><pre>Pipeline(steps=[(&#x27;imputer&#x27;, SimpleImputer()), (&#x27;scaler&#x27;, StandardScaler()),\n",
       "                (&#x27;core_model&#x27;, GradientBoostingRegressor(n_estimators=220))])</pre></div></div></div><div class=\"sk-serial\"><div class=\"sk-item\"><div class=\"sk-serial\"><div class=\"sk-item\"><div class=\"sk-estimator sk-toggleable\"><input class=\"sk-toggleable__control sk-hidden--visually\" id=\"sk-estimator-id-8\" type=\"checkbox\" ><label for=\"sk-estimator-id-8\" class=\"sk-toggleable__label sk-toggleable__label-arrow\">SimpleImputer</label><div class=\"sk-toggleable__content\"><pre>SimpleImputer()</pre></div></div></div><div class=\"sk-item\"><div class=\"sk-estimator sk-toggleable\"><input class=\"sk-toggleable__control sk-hidden--visually\" id=\"sk-estimator-id-9\" type=\"checkbox\" ><label for=\"sk-estimator-id-9\" class=\"sk-toggleable__label sk-toggleable__label-arrow\">StandardScaler</label><div class=\"sk-toggleable__content\"><pre>StandardScaler()</pre></div></div></div><div class=\"sk-item\"><div class=\"sk-estimator sk-toggleable\"><input class=\"sk-toggleable__control sk-hidden--visually\" id=\"sk-estimator-id-10\" type=\"checkbox\" ><label for=\"sk-estimator-id-10\" class=\"sk-toggleable__label sk-toggleable__label-arrow\">GradientBoostingRegressor</label><div class=\"sk-toggleable__content\"><pre>GradientBoostingRegressor(n_estimators=220)</pre></div></div></div></div></div></div></div></div></div></div></div></div>"
      ],
      "text/plain": [
       "GridSearchCV(cv=5,\n",
       "             estimator=Pipeline(steps=[('imputer', SimpleImputer()),\n",
       "                                       ('scaler', StandardScaler()),\n",
       "                                       ('core_model',\n",
       "                                        GradientBoostingRegressor(n_estimators=220))]),\n",
       "             param_grid={'core_model__learning_rate': [0.01, 0.1, 0.5],\n",
       "                         'core_model__n_estimators': range(20, 101, 20)},\n",
       "             scoring='r2')"
      ]
     },
     "execution_count": 34,
     "metadata": {},
     "output_type": "execute_result"
    }
   ],
   "source": [
    "param_tuning = {\n",
    "    'core_model__n_estimators': range(20, 101, 20),\n",
    "    'core_model__learning_rate': [0.01, 0.1, 0.5]\n",
    "}\n",
    "\n",
    "grid_search = GridSearchCV(estimator, param_grid=param_tuning, scoring='r2', cv=5)\n",
    "grid_search.fit(X_train, y_train)\n"
   ]
  },
  {
   "cell_type": "markdown",
   "metadata": {},
   "source": [
    "Resultados con mejores parametros"
   ]
  },
  {
   "cell_type": "code",
   "execution_count": 35,
   "metadata": {},
   "outputs": [],
   "source": [
    "final_results = cross_validate(grid_search.best_estimator_,X_train,y_train, return_train_score=True, cv=7)\n",
    "\n",
    "train_score_best_params = np.mean(final_results['train_score'])\n",
    "\n",
    "test_score_best_params = np.mean(final_results['test_score'])"
   ]
  },
  {
   "cell_type": "markdown",
   "metadata": {},
   "source": [
    "Impresion de resultados"
   ]
  },
  {
   "cell_type": "code",
   "execution_count": 36,
   "metadata": {},
   "outputs": [
    {
     "name": "stdout",
     "output_type": "stream",
     "text": [
      "Original train score: 0.9477358734252774\n",
      "Original test score: 0.7517272536604832\n",
      "Best train score: 0.9746637325085372\n",
      "Best test score: 0.7424869359435994\n"
     ]
    }
   ],
   "source": [
    "print(f'Original train score: {train_score_original_params}')\n",
    "print(f'Original test score: {test_score_original_params}')\n",
    "print(f'Best train score: {train_score_best_params}')\n",
    "print(f'Best test score: {test_score_best_params}')"
   ]
  },
  {
   "cell_type": "markdown",
   "metadata": {},
   "source": [
    "Mejores parametros encontrados"
   ]
  },
  {
   "cell_type": "code",
   "execution_count": 37,
   "metadata": {},
   "outputs": [
    {
     "name": "stdout",
     "output_type": "stream",
     "text": [
      "Best parameters: \n",
      "{'memory': None, 'steps': [('imputer', SimpleImputer()), ('scaler', StandardScaler()), ('core_model', GradientBoostingRegressor(learning_rate=0.5, n_estimators=60))], 'verbose': False, 'imputer': SimpleImputer(), 'scaler': StandardScaler(), 'core_model': GradientBoostingRegressor(learning_rate=0.5, n_estimators=60), 'imputer__add_indicator': False, 'imputer__copy': True, 'imputer__fill_value': None, 'imputer__keep_empty_features': False, 'imputer__missing_values': nan, 'imputer__strategy': 'mean', 'scaler__copy': True, 'scaler__with_mean': True, 'scaler__with_std': True, 'core_model__alpha': 0.9, 'core_model__ccp_alpha': 0.0, 'core_model__criterion': 'friedman_mse', 'core_model__init': None, 'core_model__learning_rate': 0.5, 'core_model__loss': 'squared_error', 'core_model__max_depth': 3, 'core_model__max_features': None, 'core_model__max_leaf_nodes': None, 'core_model__min_impurity_decrease': 0.0, 'core_model__min_samples_leaf': 1, 'core_model__min_samples_split': 2, 'core_model__min_weight_fraction_leaf': 0.0, 'core_model__n_estimators': 60, 'core_model__n_iter_no_change': None, 'core_model__random_state': None, 'core_model__subsample': 1.0, 'core_model__tol': 0.0001, 'core_model__validation_fraction': 0.1, 'core_model__verbose': 0, 'core_model__warm_start': False}\n"
     ]
    }
   ],
   "source": [
    "best_params = grid_search.best_estimator_.get_params()\n",
    "print('Best parameters: ')\n",
    "\n",
    "print(best_params)"
   ]
  },
  {
   "cell_type": "code",
   "execution_count": 38,
   "metadata": {},
   "outputs": [
    {
     "data": {
      "text/html": [
       "<style>#sk-container-id-3 {color: black;}#sk-container-id-3 pre{padding: 0;}#sk-container-id-3 div.sk-toggleable {background-color: white;}#sk-container-id-3 label.sk-toggleable__label {cursor: pointer;display: block;width: 100%;margin-bottom: 0;padding: 0.3em;box-sizing: border-box;text-align: center;}#sk-container-id-3 label.sk-toggleable__label-arrow:before {content: \"▸\";float: left;margin-right: 0.25em;color: #696969;}#sk-container-id-3 label.sk-toggleable__label-arrow:hover:before {color: black;}#sk-container-id-3 div.sk-estimator:hover label.sk-toggleable__label-arrow:before {color: black;}#sk-container-id-3 div.sk-toggleable__content {max-height: 0;max-width: 0;overflow: hidden;text-align: left;background-color: #f0f8ff;}#sk-container-id-3 div.sk-toggleable__content pre {margin: 0.2em;color: black;border-radius: 0.25em;background-color: #f0f8ff;}#sk-container-id-3 input.sk-toggleable__control:checked~div.sk-toggleable__content {max-height: 200px;max-width: 100%;overflow: auto;}#sk-container-id-3 input.sk-toggleable__control:checked~label.sk-toggleable__label-arrow:before {content: \"▾\";}#sk-container-id-3 div.sk-estimator input.sk-toggleable__control:checked~label.sk-toggleable__label {background-color: #d4ebff;}#sk-container-id-3 div.sk-label input.sk-toggleable__control:checked~label.sk-toggleable__label {background-color: #d4ebff;}#sk-container-id-3 input.sk-hidden--visually {border: 0;clip: rect(1px 1px 1px 1px);clip: rect(1px, 1px, 1px, 1px);height: 1px;margin: -1px;overflow: hidden;padding: 0;position: absolute;width: 1px;}#sk-container-id-3 div.sk-estimator {font-family: monospace;background-color: #f0f8ff;border: 1px dotted black;border-radius: 0.25em;box-sizing: border-box;margin-bottom: 0.5em;}#sk-container-id-3 div.sk-estimator:hover {background-color: #d4ebff;}#sk-container-id-3 div.sk-parallel-item::after {content: \"\";width: 100%;border-bottom: 1px solid gray;flex-grow: 1;}#sk-container-id-3 div.sk-label:hover label.sk-toggleable__label {background-color: #d4ebff;}#sk-container-id-3 div.sk-serial::before {content: \"\";position: absolute;border-left: 1px solid gray;box-sizing: border-box;top: 0;bottom: 0;left: 50%;z-index: 0;}#sk-container-id-3 div.sk-serial {display: flex;flex-direction: column;align-items: center;background-color: white;padding-right: 0.2em;padding-left: 0.2em;position: relative;}#sk-container-id-3 div.sk-item {position: relative;z-index: 1;}#sk-container-id-3 div.sk-parallel {display: flex;align-items: stretch;justify-content: center;background-color: white;position: relative;}#sk-container-id-3 div.sk-item::before, #sk-container-id-3 div.sk-parallel-item::before {content: \"\";position: absolute;border-left: 1px solid gray;box-sizing: border-box;top: 0;bottom: 0;left: 50%;z-index: -1;}#sk-container-id-3 div.sk-parallel-item {display: flex;flex-direction: column;z-index: 1;position: relative;background-color: white;}#sk-container-id-3 div.sk-parallel-item:first-child::after {align-self: flex-end;width: 50%;}#sk-container-id-3 div.sk-parallel-item:last-child::after {align-self: flex-start;width: 50%;}#sk-container-id-3 div.sk-parallel-item:only-child::after {width: 0;}#sk-container-id-3 div.sk-dashed-wrapped {border: 1px dashed gray;margin: 0 0.4em 0.5em 0.4em;box-sizing: border-box;padding-bottom: 0.4em;background-color: white;}#sk-container-id-3 div.sk-label label {font-family: monospace;font-weight: bold;display: inline-block;line-height: 1.2em;}#sk-container-id-3 div.sk-label-container {text-align: center;}#sk-container-id-3 div.sk-container {/* jupyter's `normalize.less` sets `[hidden] { display: none; }` but bootstrap.min.css set `[hidden] { display: none !important; }` so we also need the `!important` here to be able to override the default hidden behavior on the sphinx rendered scikit-learn.org. See: https://github.com/scikit-learn/scikit-learn/issues/21755 */display: inline-block !important;position: relative;}#sk-container-id-3 div.sk-text-repr-fallback {display: none;}</style><div id=\"sk-container-id-3\" class=\"sk-top-container\"><div class=\"sk-text-repr-fallback\"><pre>Pipeline(steps=[(&#x27;imputer&#x27;, SimpleImputer()), (&#x27;scaler&#x27;, StandardScaler()),\n",
       "                (&#x27;core_model&#x27;, GradientBoostingRegressor(n_estimators=220))])</pre><b>In a Jupyter environment, please rerun this cell to show the HTML representation or trust the notebook. <br />On GitHub, the HTML representation is unable to render, please try loading this page with nbviewer.org.</b></div><div class=\"sk-container\" hidden><div class=\"sk-item sk-dashed-wrapped\"><div class=\"sk-label-container\"><div class=\"sk-label sk-toggleable\"><input class=\"sk-toggleable__control sk-hidden--visually\" id=\"sk-estimator-id-11\" type=\"checkbox\" ><label for=\"sk-estimator-id-11\" class=\"sk-toggleable__label sk-toggleable__label-arrow\">Pipeline</label><div class=\"sk-toggleable__content\"><pre>Pipeline(steps=[(&#x27;imputer&#x27;, SimpleImputer()), (&#x27;scaler&#x27;, StandardScaler()),\n",
       "                (&#x27;core_model&#x27;, GradientBoostingRegressor(n_estimators=220))])</pre></div></div></div><div class=\"sk-serial\"><div class=\"sk-item\"><div class=\"sk-estimator sk-toggleable\"><input class=\"sk-toggleable__control sk-hidden--visually\" id=\"sk-estimator-id-12\" type=\"checkbox\" ><label for=\"sk-estimator-id-12\" class=\"sk-toggleable__label sk-toggleable__label-arrow\">SimpleImputer</label><div class=\"sk-toggleable__content\"><pre>SimpleImputer()</pre></div></div></div><div class=\"sk-item\"><div class=\"sk-estimator sk-toggleable\"><input class=\"sk-toggleable__control sk-hidden--visually\" id=\"sk-estimator-id-13\" type=\"checkbox\" ><label for=\"sk-estimator-id-13\" class=\"sk-toggleable__label sk-toggleable__label-arrow\">StandardScaler</label><div class=\"sk-toggleable__content\"><pre>StandardScaler()</pre></div></div></div><div class=\"sk-item\"><div class=\"sk-estimator sk-toggleable\"><input class=\"sk-toggleable__control sk-hidden--visually\" id=\"sk-estimator-id-14\" type=\"checkbox\" ><label for=\"sk-estimator-id-14\" class=\"sk-toggleable__label sk-toggleable__label-arrow\">GradientBoostingRegressor</label><div class=\"sk-toggleable__content\"><pre>GradientBoostingRegressor(n_estimators=220)</pre></div></div></div></div></div></div></div>"
      ],
      "text/plain": [
       "Pipeline(steps=[('imputer', SimpleImputer()), ('scaler', StandardScaler()),\n",
       "                ('core_model', GradientBoostingRegressor(n_estimators=220))])"
      ]
     },
     "execution_count": 38,
     "metadata": {},
     "output_type": "execute_result"
    }
   ],
   "source": [
    "estimator.fit(X_train,y_train)"
   ]
  },
  {
   "cell_type": "code",
   "execution_count": 39,
   "metadata": {},
   "outputs": [
    {
     "data": {
      "text/plain": [
       "0.7398316408938105"
      ]
     },
     "execution_count": 39,
     "metadata": {},
     "output_type": "execute_result"
    }
   ],
   "source": [
    "estimator.score(X_test, y_test)"
   ]
  },
  {
   "cell_type": "markdown",
   "metadata": {},
   "source": [
    "Saving Model"
   ]
  },
  {
   "cell_type": "code",
   "execution_count": 40,
   "metadata": {},
   "outputs": [],
   "source": [
    "from joblib import dump"
   ]
  },
  {
   "cell_type": "code",
   "execution_count": 45,
   "metadata": {},
   "outputs": [
    {
     "data": {
      "text/plain": [
       "['C:/Users/matia/OneDrive/Escritorio/DataScience/Platzi/ML con python/Despliegue de modelos de ML/model/model.pkl']"
      ]
     },
     "execution_count": 45,
     "metadata": {},
     "output_type": "execute_result"
    }
   ],
   "source": [
    "ruta_modelo = r'C:/Users/matia/OneDrive/Escritorio/DataScience/Platzi/ML con python/Despliegue de modelos de ML/model/model.pkl'\n",
    "dump(estimator, ruta_modelo)"
   ]
  },
  {
   "cell_type": "code",
   "execution_count": null,
   "metadata": {},
   "outputs": [],
   "source": []
  }
 ],
 "metadata": {
  "kernelspec": {
   "display_name": "entorno",
   "language": "python",
   "name": "python3"
  },
  "language_info": {
   "codemirror_mode": {
    "name": "ipython",
    "version": 3
   },
   "file_extension": ".py",
   "mimetype": "text/x-python",
   "name": "python",
   "nbconvert_exporter": "python",
   "pygments_lexer": "ipython3",
   "version": "3.12.1"
  }
 },
 "nbformat": 4,
 "nbformat_minor": 2
}
